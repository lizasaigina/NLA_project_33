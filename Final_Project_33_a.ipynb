{
 "cells": [
  {
   "cell_type": "markdown",
   "metadata": {},
   "source": [
    "### Libraries:"
   ]
  },
  {
   "cell_type": "code",
   "execution_count": 252,
   "metadata": {},
   "outputs": [],
   "source": [
    "from matplotlib import pyplot as plt\n",
    "import numpy as np\n",
    "from numpy.linalg import svd, eig\n",
    "import scipy\n",
    "from scipy.sparse import csr_matrix\n",
    "from scipy.sparse.linalg import svds, eigs\n",
    "import re\n",
    "import gensim\n",
    "import seaborn as sns\n",
    "from scipy import stats"
   ]
  },
  {
   "cell_type": "markdown",
   "metadata": {},
   "source": [
    "### Prepearing data:"
   ]
  },
  {
   "cell_type": "code",
   "execution_count": 254,
   "metadata": {},
   "outputs": [],
   "source": [
    "file = open(\"test_2.txt\", \"r\")\n",
    "\n",
    "doclist = [line for line in file]    \n",
    "docstr = ''.join(doclist)\n",
    "sentences = re.split(r'[.!?]', docstr)\n",
    "sentences = [sentence.split() for sentence in sentences if len(sentence) > 1]"
   ]
  },
  {
   "cell_type": "code",
   "execution_count": null,
   "metadata": {},
   "outputs": [],
   "source": [
    "print(\"Number of sentences:\", len(sentences))\n",
    "print(\"Example of sentence:\", sentences[10])"
   ]
  },
  {
   "cell_type": "code",
   "execution_count": null,
   "metadata": {},
   "outputs": [],
   "source": [
    "def create_vocabulary(sentences, d=150): \n",
    "    vocabulary = {}\n",
    "    wordfreq = {}\n",
    "    i = 0\n",
    "    for s in sentences:\n",
    "        for w in s:\n",
    "            if w not in wordfreq:\n",
    "                wordfreq[w] = 0 \n",
    "            wordfreq[w] += 1\n",
    "    for word in wordfreq:\n",
    "        if (wordfreq[word] >= d):\n",
    "            vocabulary[word] = i\n",
    "            i += 1\n",
    "    return vocabulary"
   ]
  },
  {
   "cell_type": "code",
   "execution_count": null,
   "metadata": {},
   "outputs": [],
   "source": [
    "vocabulary = create_vocabulary(sentences)"
   ]
  },
  {
   "cell_type": "code",
   "execution_count": null,
   "metadata": {},
   "outputs": [],
   "source": [
    "print(\"Dimension of vocabulary:\", len(vocabulary))"
   ]
  },
  {
   "cell_type": "markdown",
   "metadata": {},
   "source": [
    "### SPPMI via truncated SVD"
   ]
  },
  {
   "cell_type": "code",
   "execution_count": null,
   "metadata": {},
   "outputs": [],
   "source": [
    "def create_corpus_matrix(sentences, vocabulary):\n",
    "    n = len(vocabulary)\n",
    "    corpus_matrix = np.zeros((n, n))\n",
    "    \n",
    "    for sentense in sentences:\n",
    "        for position_of_word in range(len(sentense)):\n",
    "            window = [-2, -1, 0, 1, 2]\n",
    "            for i in window:\n",
    "                if (position_of_word + i) in range(0, len(sentense)):\n",
    "                    word = sentense[position_of_word]\n",
    "                    context = sentense[i]\n",
    "                    if if_in_vocabulary(word, context) and i != position_of_word:\n",
    "                        corpus_matrix[vocabulary[word]][vocabulary[context]] += 1\n",
    "                \n",
    "    return corpus_matrix"
   ]
  },
  {
   "cell_type": "code",
   "execution_count": null,
   "metadata": {},
   "outputs": [],
   "source": [
    "D = create_corpus_matrix(sentences, vocabulary)"
   ]
  },
  {
   "cell_type": "code",
   "execution_count": 79,
   "metadata": {},
   "outputs": [],
   "source": [
    "def compute_embeddings(D, k=5, d=150):\n",
    "    n = D.shape[0]\n",
    "    SPPMI = np.zeros((n,n), dtype=float)\n",
    "    w = np.sum(D, axis=1)\n",
    "    m = np.sum(w)\n",
    "    l = np.log(m/k)\n",
    "    for i in range(n):\n",
    "        for j in range(n):\n",
    "            if (D[i,j]!=0):\n",
    "                f = np.log(D[i,j]/w[i]/w[j]) + l\n",
    "                if (f>0): SPPMI[i,j] = f\n",
    "    SPPMI = csr_matrix(SPPMI)\n",
    "    \n",
    "#     u, s, _ = svds(SPPMI, k=d)  \n",
    "#     return u.dot(np.diag(np.sqrt(s))) #embedding_matrix\n",
    "\n",
    "    return SPPMI"
   ]
  },
  {
   "cell_type": "code",
   "execution_count": 80,
   "metadata": {},
   "outputs": [],
   "source": [
    "M = compute_embeddings(D, d=150)"
   ]
  },
  {
   "cell_type": "code",
   "execution_count": 81,
   "metadata": {},
   "outputs": [],
   "source": [
    "u, s, v = svds(M, k=700)"
   ]
  },
  {
   "cell_type": "markdown",
   "metadata": {},
   "source": [
    "### Word2vec via gensim library"
   ]
  },
  {
   "cell_type": "code",
   "execution_count": 84,
   "metadata": {},
   "outputs": [],
   "source": [
    "model = gensim.models.Word2Vec(sentences, min_count=150, size=700)    "
   ]
  },
  {
   "cell_type": "code",
   "execution_count": 85,
   "metadata": {},
   "outputs": [],
   "source": [
    "def create_wv_vocabs(model):\n",
    "    enum_vocab = {}\n",
    "    rev_vocab = {}\n",
    "    for i in range(len(model.wv.vocab)):\n",
    "        word = model.wv.similar_by_vector(model.wv.vectors[i], 1)[0][0]\n",
    "        rev_vocab[i] = word\n",
    "        enum_vocab[word] = i\n",
    "    return rev_vocab, enum_vocab"
   ]
  },
  {
   "cell_type": "code",
   "execution_count": 86,
   "metadata": {},
   "outputs": [
    {
     "name": "stderr",
     "output_type": "stream",
     "text": [
      "/Users/kmps/anaconda3/lib/python3.7/site-packages/gensim/matutils.py:737: FutureWarning: Conversion of the second argument of issubdtype from `int` to `np.signedinteger` is deprecated. In future, it will be treated as `np.int64 == np.dtype(int).type`.\n",
      "  if np.issubdtype(vec.dtype, np.int):\n"
     ]
    }
   ],
   "source": [
    "iwvoc, wivoc = create_wv_vocabs(model)"
   ]
  },
  {
   "cell_type": "code",
   "execution_count": 87,
   "metadata": {},
   "outputs": [],
   "source": [
    "revvoc = {v: k for k, v in vocabulary.items()}"
   ]
  },
  {
   "cell_type": "code",
   "execution_count": 137,
   "metadata": {},
   "outputs": [
    {
     "name": "stdout",
     "output_type": "stream",
     "text": [
      "seems\n",
      "belongs\n",
      "find\n",
      "depends\n",
      "provides\n",
      "isn\n",
      "is\n",
      "distinguish\n",
      "governor\n",
      "refers\n",
      "history\n",
      "iraq\n",
      "goes\n",
      "appeared\n",
      "refer\n",
      "takes\n",
      "kingdom\n",
      "be\n",
      "deleted\n",
      "appears\n"
     ]
    }
   ],
   "source": [
    "#sgns\n",
    "for i in np.argsort(model.wv.vectors[:, 699])[-20:]:\n",
    "    print (iwvoc[i])"
   ]
  },
  {
   "cell_type": "code",
   "execution_count": 147,
   "metadata": {},
   "outputs": [
    {
     "data": {
      "text/plain": [
       "(15585,)"
      ]
     },
     "execution_count": 147,
     "metadata": {},
     "output_type": "execute_result"
    }
   ],
   "source": [
    "np.argsort(u[:, 0])[:-20].shape"
   ]
  },
  {
   "cell_type": "code",
   "execution_count": 230,
   "metadata": {},
   "outputs": [
    {
     "data": {
      "text/plain": [
       "15605"
      ]
     },
     "execution_count": 230,
     "metadata": {},
     "output_type": "execute_result"
    }
   ],
   "source": [
    "len(u[:, 697])"
   ]
  },
  {
   "cell_type": "code",
   "execution_count": 263,
   "metadata": {},
   "outputs": [
    {
     "name": "stdout",
     "output_type": "stream",
     "text": [
      "trumpet\n",
      "recorder\n",
      "percussion\n",
      "strings\n",
      "electric\n",
      "keyboard\n",
      "manufacturer\n",
      "string\n",
      "horn\n",
      "harp\n",
      "alto\n",
      "soprano\n",
      "concerto\n",
      "viola\n",
      "cello\n",
      "saxophone\n",
      "violin\n",
      "clarinet\n",
      "piano\n",
      "flute\n"
     ]
    }
   ],
   "source": [
    "for i in np.argsort(u[:, 659])[-20:]:\n",
    "    print(revvoc[i])"
   ]
  },
  {
   "cell_type": "markdown",
   "metadata": {},
   "source": [
    "### Eigenvectors distibution "
   ]
  },
  {
   "cell_type": "markdown",
   "metadata": {},
   "source": [
    "#### The null hypothesis check"
   ]
  },
  {
   "cell_type": "code",
   "execution_count": 43,
   "metadata": {},
   "outputs": [],
   "source": [
    "def is_normal(vec):\n",
    "    k2, p = stats.normaltest(vec.real)\n",
    "    print(p)\n",
    "# null hypothesis: x comes from a normal distribution\n",
    "    if p < 1e-100:  \n",
    "        print(\"The null hypothesis can be rejected\")\n",
    "        return False\n",
    "    else:\n",
    "        print(\"The null hypothesis cannot be rejected\")\n",
    "        return True"
   ]
  },
  {
   "cell_type": "markdown",
   "metadata": {},
   "source": [
    "#### a) SVD"
   ]
  },
  {
   "cell_type": "code",
   "execution_count": 114,
   "metadata": {
    "scrolled": false
   },
   "outputs": [
    {
     "data": {
      "image/png": "[encoded data removed]",
      "text/plain": [
       "<Figure size 1080x360 with 4 Axes>"
      ]
     },
     "metadata": {},
     "output_type": "display_data"
    }
   ],
   "source": [
    "eig_list_svd = [u[:, 699], u[:, 698], u[:, 299], u[:, 0]] \n",
    "eig_list_names = ['u1', 'u2', 'u401', 'u699']\n",
    "plt.figure(figsize=(15,5))\n",
    "\n",
    "for i, eig in enumerate(eig_list_svd):\n",
    "    a = eig \n",
    "    mu = np.mean(a)\n",
    "    sigma = np.std(a)\n",
    "    \n",
    "    plt.subplot(1, 4, i+1)\n",
    "    count, bins, ignored = plt.hist(a, 60, density = True, color='b', range =(-0.06, 0.06))\n",
    "    plt.plot(bins, 1/(sigma*(np.sqrt(2 * np.pi))) * np.exp(- (bins-mu)**2 /(2*sigma**2) ), linewidth=2, color='r')\n",
    "    plt.xlabel('%s'% eig_list_names[i], fontsize=12)\n",
    "      \n",
    "plt.savefig('svg_eig.png')\n",
    "plt.show()"
   ]
  },
  {
   "cell_type": "code",
   "execution_count": 115,
   "metadata": {},
   "outputs": [
    {
     "name": "stdout",
     "output_type": "stream",
     "text": [
      "0.0\n",
      "The null hypothesis can be rejected\n",
      "0.0\n",
      "The null hypothesis can be rejected\n",
      "1.789496546791768e-96\n",
      "The null hypothesis cannot be rejected\n",
      "3.917062687701434e-64\n",
      "The null hypothesis cannot be rejected\n"
     ]
    }
   ],
   "source": [
    "for vec in eig_list_svd:\n",
    "    is_normal(vec)"
   ]
  },
  {
   "cell_type": "markdown",
   "metadata": {},
   "source": [
    "#### b) SGNS"
   ]
  },
  {
   "cell_type": "code",
   "execution_count": 109,
   "metadata": {},
   "outputs": [],
   "source": [
    "#SVD for SGNS\n",
    "ug, sg, vhg = scipy.linalg.svd(model.wv.vectors, full_matrices=False)"
   ]
  },
  {
   "cell_type": "code",
   "execution_count": 134,
   "metadata": {},
   "outputs": [
    {
     "data": {
      "image/png": "[encoded data removed]",
      "text/plain": [
       "<Figure size 1080x360 with 4 Axes>"
      ]
     },
     "metadata": {},
     "output_type": "display_data"
    }
   ],
   "source": [
    "eig_list_sgns = [ug[:, len(ug[0])-1], ug[:, len(ug[0])-2], ug[:, 299], ug[:, 0]]\n",
    "eig_list_names = ['ug1', 'ug2', 'ug401', 'ug700']\n",
    "plt.figure(figsize=(15,5))\n",
    "\n",
    "for i, eig in enumerate(eig_list_sgns):\n",
    "    a = eig \n",
    "    mu = np.mean(a)\n",
    "    sigma = np.std(a)\n",
    "    \n",
    "    plt.subplot(1, 4, i+1)\n",
    "    count, bins, ignored = plt.hist(a, 60, density = True, color='b', range =(-0.06, 0.06))\n",
    "    plt.plot(bins, 1/(sigma*(np.sqrt(2 * np.pi))) * np.exp(- (bins-mu)**2 /(2*sigma**2) ), linewidth=2, color='r')\n",
    "    plt.xlabel('%s'% eig_list_names[i], fontsize=12)\n",
    "      \n",
    "plt.savefig('sgns_eig.png')\n",
    "plt.show()"
   ]
  },
  {
   "cell_type": "code",
   "execution_count": 135,
   "metadata": {
    "scrolled": true
   },
   "outputs": [
    {
     "name": "stdout",
     "output_type": "stream",
     "text": [
      "0.0\n",
      "The null hypothesis can be rejected\n",
      "0.0\n",
      "The null hypothesis can be rejected\n",
      "0.0\n",
      "The null hypothesis can be rejected\n",
      "8.209404489120923e-38\n",
      "The null hypothesis cannot be rejected\n"
     ]
    }
   ],
   "source": [
    "for vec in eig_list_sgns:\n",
    "    is_normal(vec)"
   ]
  },
  {
   "cell_type": "markdown",
   "metadata": {},
   "source": [
    "## Inverse Participation Ratio (IPR)"
   ]
  },
  {
   "cell_type": "markdown",
   "metadata": {},
   "source": [
    "### SVD and  SGNS IPR distributions"
   ]
  },
  {
   "cell_type": "code",
   "execution_count": 118,
   "metadata": {},
   "outputs": [],
   "source": [
    "iprwv = np.sum(model.wv.vectors**4, axis=0) / np.linalg.norm(model.wv.vectors, axis=0)**4"
   ]
  },
  {
   "cell_type": "code",
   "execution_count": 119,
   "metadata": {},
   "outputs": [],
   "source": [
    "ipr = np.sum(u**4, axis=0)"
   ]
  },
  {
   "cell_type": "code",
   "execution_count": 136,
   "metadata": {},
   "outputs": [
    {
     "data": {
      "image/png": "[encoded data removed]",
      "text/plain": [
       "<Figure size 432x288 with 1 Axes>"
      ]
     },
     "metadata": {},
     "output_type": "display_data"
    },
    {
     "data": {
      "image/png": "[encoded data removed]",
      "text/plain": [
       "<Figure size 432x288 with 1 Axes>"
      ]
     },
     "metadata": {},
     "output_type": "display_data"
    }
   ],
   "source": [
    "plt.hist(1/ipr/7722, bins=50, range=(0.05, 0.6)) \n",
    "plt.title('IPR for SVD vectors') \n",
    "plt.xlabel('IPR') \n",
    "plt.savefig('IPR_SVD.png')\n",
    "plt.show()\n",
    "\n",
    "plt.hist(1/iprwv/7722, bins=50, range=(0.05, 0.6)) \n",
    "plt.title('IPR for SGNS vectors') \n",
    "plt.xlabel('IPR') \n",
    "plt.savefig('IPR_SGNS.png')\n",
    "plt.show()"
   ]
  },
  {
   "cell_type": "code",
   "execution_count": 132,
   "metadata": {},
   "outputs": [
    {
     "data": {
      "image/png": "[encoded data removed]",
      "text/plain": [
       "<Figure size 432x288 with 1 Axes>"
      ]
     },
     "metadata": {},
     "output_type": "display_data"
    }
   ],
   "source": [
    "plt.semilogy(1/iprwv/len(iprwv))\n",
    "plt.show()"
   ]
  },
  {
   "cell_type": "code",
   "execution_count": 133,
   "metadata": {},
   "outputs": [
    {
     "data": {
      "image/png": "[encoded data removed]",
      "text/plain": [
       "<Figure size 432x288 with 1 Axes>"
      ]
     },
     "metadata": {},
     "output_type": "display_data"
    }
   ],
   "source": [
    "plt.semilogy(1/ipr/len(ipr))\n",
    "plt.show()"
   ]
  },
  {
   "cell_type": "markdown",
   "metadata": {},
   "source": [
    "### Check of normal distribution "
   ]
  },
  {
   "cell_type": "markdown",
   "metadata": {},
   "source": [
    "#### For SVD"
   ]
  },
  {
   "cell_type": "code",
   "execution_count": 125,
   "metadata": {},
   "outputs": [
    {
     "name": "stdout",
     "output_type": "stream",
     "text": [
      "0.0\n",
      "The null hypothesis can be rejected\n"
     ]
    },
    {
     "data": {
      "text/plain": [
       "False"
      ]
     },
     "execution_count": 125,
     "metadata": {},
     "output_type": "execute_result"
    }
   ],
   "source": [
    "is_normal(ipr)"
   ]
  },
  {
   "cell_type": "markdown",
   "metadata": {},
   "source": [
    "#### For SGNS"
   ]
  },
  {
   "cell_type": "code",
   "execution_count": 127,
   "metadata": {},
   "outputs": [
    {
     "name": "stdout",
     "output_type": "stream",
     "text": [
      "8.658704106017392e-07\n",
      "The null hypothesis cannot be rejected\n"
     ]
    },
    {
     "data": {
      "text/plain": [
       "True"
      ]
     },
     "execution_count": 127,
     "metadata": {},
     "output_type": "execute_result"
    }
   ],
   "source": [
    "is_normal(iprwv)"
   ]
  },
  {
   "cell_type": "markdown",
   "metadata": {},
   "source": [
    "###  vectors with highest IPR "
   ]
  },
  {
   "cell_type": "code",
   "execution_count": 266,
   "metadata": {},
   "outputs": [
    {
     "name": "stdout",
     "output_type": "stream",
     "text": [
      "u699:\n",
      "hook\n",
      "brooks\n",
      "carving\n",
      "starts\n",
      "fighter\n",
      "online\n",
      "relative\n",
      "powered\n",
      "storm\n",
      "supposedly\n",
      "dave\n",
      "logo\n",
      "harris\n",
      "captivity\n",
      "depends\n",
      "reliability\n",
      "somewhere\n",
      "plate\n",
      "liver\n",
      "breaking\n",
      "*****\n",
      "u6:\n",
      "regiments\n",
      "fever\n",
      "willis\n",
      "takeoff\n",
      "gather\n",
      "tsar\n",
      "statesman\n",
      "trend\n",
      "ac\n",
      "gift\n",
      "zoom\n",
      "literacy\n",
      "contracted\n",
      "ore\n",
      "drives\n",
      "gonna\n",
      "doesn\n",
      "fiscal\n",
      "theta\n",
      "aviation\n",
      "*****\n",
      "u106:\n",
      "perpendicular\n",
      "clans\n",
      "laden\n",
      "divinity\n",
      "sandra\n",
      "rdoba\n",
      "unknown\n",
      "assessment\n",
      "partnership\n",
      "endeavour\n",
      "merger\n",
      "judge\n",
      "keyboard\n",
      "identifying\n",
      "ronald\n",
      "vat\n",
      "fur\n",
      "public\n",
      "napier\n",
      "dumbledore\n",
      "*****\n"
     ]
    }
   ],
   "source": [
    "#SVD first three vectors with highest IPR \n",
    "max_ipr = [i for i in np.argsort(ipr)]\n",
    "for i in max_ipr[0:3]:\n",
    "    print('u%d:'%i)\n",
    "    for j in np.argsort(u[:,i])[:20]:\n",
    "        print(iwvoc[j])\n",
    "    print('*****')"
   ]
  },
  {
   "cell_type": "code",
   "execution_count": 265,
   "metadata": {},
   "outputs": [
    {
     "name": "stdout",
     "output_type": "stream",
     "text": [
      "3\n",
      "leave\n",
      "injured\n",
      "attack\n",
      "hit\n",
      "knocked\n",
      "escape\n",
      "him\n",
      "caught\n",
      "returned\n",
      "fought\n",
      "sailed\n",
      "troops\n",
      "forced\n",
      "thrown\n",
      "wounded\n",
      "shot\n",
      "defeated\n",
      "fight\n",
      "fired\n",
      "killed\n",
      "*****\n",
      "596\n",
      "september\n",
      "being\n",
      "natural\n",
      "here\n",
      "movie\n",
      "within\n",
      "cover\n",
      "arms\n",
      "per\n",
      "search\n",
      "memory\n",
      "prize\n",
      "service\n",
      "training\n",
      "others\n",
      "good\n",
      "henry\n",
      "german\n",
      "american\n",
      "puerto\n",
      "*****\n",
      "666\n",
      "each\n",
      "example\n",
      "charles\n",
      "standard\n",
      "financial\n",
      "non\n",
      "stock\n",
      "student\n",
      "stone\n",
      "you\n",
      "this\n",
      "today\n",
      "an\n",
      "san\n",
      "speed\n",
      "called\n",
      "france\n",
      "police\n",
      "e\n",
      "network\n",
      "*****\n"
     ]
    }
   ],
   "source": [
    "#SGNS first three vectors with highest IPR \n",
    "max_iprwv = [i for i in np.argsort(iprwv)]\n",
    "\n",
    "for i in max_iprwv[:3]:\n",
    "    print(i)\n",
    "    for j in np.argsort(ug[:,i])[-20:]:\n",
    "        print( iwvoc[j])\n",
    "    print('*****')"
   ]
  },
  {
   "cell_type": "code",
   "execution_count": null,
   "metadata": {},
   "outputs": [],
   "source": []
  }
 ],
 "metadata": {
  "kernelspec": {
   "display_name": "Python 3",
   "language": "python",
   "name": "python3"
  },
  "language_info": {
   "codemirror_mode": {
    "name": "ipython",
    "version": 3
   },
   "file_extension": ".py",
   "mimetype": "text/x-python",
   "name": "python",
   "nbconvert_exporter": "python",
   "pygments_lexer": "ipython3",
   "version": "3.7.1"
  }
 },
 "nbformat": 4,
 "nbformat_minor": 2
}
